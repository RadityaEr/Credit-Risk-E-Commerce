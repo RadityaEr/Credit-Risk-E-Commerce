{
 "cells": [
  {
   "cell_type": "markdown",
   "id": "aa397de7",
   "metadata": {},
   "source": [
    "# Import Library"
   ]
  },
  {
   "cell_type": "code",
   "execution_count": 3,
   "id": "650111c4",
   "metadata": {},
   "outputs": [],
   "source": [
    "# 📊 Data Manipulation & EDA\n",
    "import pandas as pd\n",
    "import numpy as np\n",
    "\n",
    "# 📈 Visualization\n",
    "import matplotlib.pyplot as plt\n",
    "import seaborn as sns\n",
    "\n",
    "# 🧹 Warnings\n",
    "import warnings\n",
    "warnings.filterwarnings('ignore')\n",
    "\n",
    "# ⚙️ Machine Learning: Baseline & Gradient Boosting\n",
    "from sklearn.model_selection import train_test_split, GridSearchCV\n",
    "from sklearn.linear_model import LogisticRegression\n",
    "from sklearn.ensemble import GradientBoostingClassifier\n",
    "from sklearn.metrics import (\n",
    "    accuracy_score, \n",
    "    roc_auc_score, \n",
    "    confusion_matrix, \n",
    "    classification_report, \n",
    "    roc_curve\n",
    ")\n",
    "\n",
    "# 📏 Score Scaling\n",
    "from sklearn.preprocessing import MinMaxScaler\n",
    "\n",
    "# 🔍 SHAP Explainability\n",
    "import shap\n",
    "\n",
    "# 📄 Save PNG & PDF\n",
    "import matplotlib\n",
    "from matplotlib import pyplot as plt"
   ]
  },
  {
   "cell_type": "markdown",
   "id": "f6f1ec47",
   "metadata": {},
   "source": [
    "# Load Dataset"
   ]
  },
  {
   "cell_type": "code",
   "execution_count": 9,
   "id": "0400c2f8",
   "metadata": {},
   "outputs": [],
   "source": [
    "dataset = pd.read_csv(\"E:\\Coding\\PEFindo\\data\\credit_scoring.csv\")"
   ]
  },
  {
   "cell_type": "code",
   "execution_count": 30,
   "id": "fa7dc72a",
   "metadata": {},
   "outputs": [
    {
     "data": {
      "text/html": [
       "<div>\n",
       "<style scoped>\n",
       "    .dataframe tbody tr th:only-of-type {\n",
       "        vertical-align: middle;\n",
       "    }\n",
       "\n",
       "    .dataframe tbody tr th {\n",
       "        vertical-align: top;\n",
       "    }\n",
       "\n",
       "    .dataframe thead th {\n",
       "        text-align: right;\n",
       "    }\n",
       "</style>\n",
       "<table border=\"1\" class=\"dataframe\">\n",
       "  <thead>\n",
       "    <tr style=\"text-align: right;\">\n",
       "      <th></th>\n",
       "      <th>application_id</th>\n",
       "      <th>age</th>\n",
       "      <th>monthly_income</th>\n",
       "      <th>loan_amount</th>\n",
       "      <th>previous_defaults</th>\n",
       "      <th>credit_score</th>\n",
       "      <th>default</th>\n",
       "      <th>leak_col_good</th>\n",
       "      <th>leak_col_subtle</th>\n",
       "    </tr>\n",
       "  </thead>\n",
       "  <tbody>\n",
       "    <tr>\n",
       "      <th>1431</th>\n",
       "      <td>502431</td>\n",
       "      <td>30</td>\n",
       "      <td>3031725</td>\n",
       "      <td>9225673</td>\n",
       "      <td>1</td>\n",
       "      <td>584</td>\n",
       "      <td>0</td>\n",
       "      <td>0</td>\n",
       "      <td>-0.004</td>\n",
       "    </tr>\n",
       "    <tr>\n",
       "      <th>3872</th>\n",
       "      <td>504872</td>\n",
       "      <td>43</td>\n",
       "      <td>5830344</td>\n",
       "      <td>7541151</td>\n",
       "      <td>0</td>\n",
       "      <td>847</td>\n",
       "      <td>0</td>\n",
       "      <td>0</td>\n",
       "      <td>-0.022</td>\n",
       "    </tr>\n",
       "    <tr>\n",
       "      <th>3779</th>\n",
       "      <td>504779</td>\n",
       "      <td>59</td>\n",
       "      <td>7628370</td>\n",
       "      <td>14466925</td>\n",
       "      <td>0</td>\n",
       "      <td>369</td>\n",
       "      <td>0</td>\n",
       "      <td>0</td>\n",
       "      <td>0.059</td>\n",
       "    </tr>\n",
       "    <tr>\n",
       "      <th>5496</th>\n",
       "      <td>506496</td>\n",
       "      <td>33</td>\n",
       "      <td>5597734</td>\n",
       "      <td>2571128</td>\n",
       "      <td>0</td>\n",
       "      <td>807</td>\n",
       "      <td>0</td>\n",
       "      <td>0</td>\n",
       "      <td>0.008</td>\n",
       "    </tr>\n",
       "    <tr>\n",
       "      <th>5106</th>\n",
       "      <td>506106</td>\n",
       "      <td>42</td>\n",
       "      <td>19640843</td>\n",
       "      <td>9021317</td>\n",
       "      <td>0</td>\n",
       "      <td>536</td>\n",
       "      <td>0</td>\n",
       "      <td>0</td>\n",
       "      <td>0.012</td>\n",
       "    </tr>\n",
       "  </tbody>\n",
       "</table>\n",
       "</div>"
      ],
      "text/plain": [
       "      application_id  age  monthly_income  loan_amount  previous_defaults  \\\n",
       "1431          502431   30         3031725      9225673                  1   \n",
       "3872          504872   43         5830344      7541151                  0   \n",
       "3779          504779   59         7628370     14466925                  0   \n",
       "5496          506496   33         5597734      2571128                  0   \n",
       "5106          506106   42        19640843      9021317                  0   \n",
       "\n",
       "      credit_score  default  leak_col_good  leak_col_subtle  \n",
       "1431           584        0              0           -0.004  \n",
       "3872           847        0              0           -0.022  \n",
       "3779           369        0              0            0.059  \n",
       "5496           807        0              0            0.008  \n",
       "5106           536        0              0            0.012  "
      ]
     },
     "execution_count": 30,
     "metadata": {},
     "output_type": "execute_result"
    }
   ],
   "source": [
    "dataset.sample(5)"
   ]
  },
  {
   "cell_type": "markdown",
   "id": "0eae35b5",
   "metadata": {},
   "source": [
    "# Data Pre-Preparation"
   ]
  },
  {
   "cell_type": "code",
   "execution_count": 11,
   "id": "b701fd0e",
   "metadata": {},
   "outputs": [
    {
     "name": "stdout",
     "output_type": "stream",
     "text": [
      "<class 'pandas.core.frame.DataFrame'>\n",
      "RangeIndex: 6000 entries, 0 to 5999\n",
      "Data columns (total 9 columns):\n",
      " #   Column             Non-Null Count  Dtype  \n",
      "---  ------             --------------  -----  \n",
      " 0   application_id     6000 non-null   int64  \n",
      " 1   age                6000 non-null   int64  \n",
      " 2   monthly_income     6000 non-null   int64  \n",
      " 3   loan_amount        6000 non-null   int64  \n",
      " 4   previous_defaults  6000 non-null   int64  \n",
      " 5   credit_score       6000 non-null   int64  \n",
      " 6   default            6000 non-null   int64  \n",
      " 7   leak_col_good      6000 non-null   int64  \n",
      " 8   leak_col_subtle    6000 non-null   float64\n",
      "dtypes: float64(1), int64(8)\n",
      "memory usage: 422.0 KB\n"
     ]
    }
   ],
   "source": [
    "dataset.info()"
   ]
  },
  {
   "cell_type": "code",
   "execution_count": 14,
   "id": "44db33cb",
   "metadata": {},
   "outputs": [
    {
     "name": "stdout",
     "output_type": "stream",
     "text": [
      "Has duplicate rows: False\n"
     ]
    }
   ],
   "source": [
    "# Check for duplicate rows using len\n",
    "has_duplicate_rows = len(dataset) != len(dataset.drop_duplicates())\n",
    "print(\"Has duplicate rows:\", has_duplicate_rows)"
   ]
  },
  {
   "cell_type": "markdown",
   "id": "48728dda",
   "metadata": {},
   "source": [
    "Tidak ada Duplicate Rows"
   ]
  },
  {
   "cell_type": "code",
   "execution_count": 15,
   "id": "30f2a9eb",
   "metadata": {},
   "outputs": [
    {
     "name": "stdout",
     "output_type": "stream",
     "text": [
      "Has missing values: False\n"
     ]
    }
   ],
   "source": [
    "# Check if there are any nulls in the dataset\n",
    "has_nulls = dataset.isnull().values.any()\n",
    "print(\"Has missing values:\", has_nulls)"
   ]
  },
  {
   "cell_type": "markdown",
   "id": "fecbc028",
   "metadata": {},
   "source": [
    "Tidak ada Missing Value"
   ]
  },
  {
   "cell_type": "code",
   "execution_count": 16,
   "id": "dfc87a2c",
   "metadata": {},
   "outputs": [
    {
     "data": {
      "text/html": [
       "<div>\n",
       "<style scoped>\n",
       "    .dataframe tbody tr th:only-of-type {\n",
       "        vertical-align: middle;\n",
       "    }\n",
       "\n",
       "    .dataframe tbody tr th {\n",
       "        vertical-align: top;\n",
       "    }\n",
       "\n",
       "    .dataframe thead th {\n",
       "        text-align: right;\n",
       "    }\n",
       "</style>\n",
       "<table border=\"1\" class=\"dataframe\">\n",
       "  <thead>\n",
       "    <tr style=\"text-align: right;\">\n",
       "      <th></th>\n",
       "      <th>application_id</th>\n",
       "      <th>age</th>\n",
       "      <th>monthly_income</th>\n",
       "      <th>loan_amount</th>\n",
       "      <th>previous_defaults</th>\n",
       "      <th>credit_score</th>\n",
       "      <th>default</th>\n",
       "      <th>leak_col_good</th>\n",
       "      <th>leak_col_subtle</th>\n",
       "    </tr>\n",
       "  </thead>\n",
       "  <tbody>\n",
       "    <tr>\n",
       "      <th>count</th>\n",
       "      <td>6000.000000</td>\n",
       "      <td>6000.000000</td>\n",
       "      <td>6.000000e+03</td>\n",
       "      <td>6.000000e+03</td>\n",
       "      <td>6000.000000</td>\n",
       "      <td>6000.000000</td>\n",
       "      <td>6000.000000</td>\n",
       "      <td>6000.000000</td>\n",
       "      <td>6000.000000</td>\n",
       "    </tr>\n",
       "    <tr>\n",
       "      <th>mean</th>\n",
       "      <td>503999.500000</td>\n",
       "      <td>40.321500</td>\n",
       "      <td>1.140386e+07</td>\n",
       "      <td>8.001122e+06</td>\n",
       "      <td>0.243667</td>\n",
       "      <td>575.979833</td>\n",
       "      <td>0.012167</td>\n",
       "      <td>0.012167</td>\n",
       "      <td>0.011945</td>\n",
       "    </tr>\n",
       "    <tr>\n",
       "      <th>std</th>\n",
       "      <td>1732.195139</td>\n",
       "      <td>11.300697</td>\n",
       "      <td>4.912598e+06</td>\n",
       "      <td>4.071786e+06</td>\n",
       "      <td>0.484767</td>\n",
       "      <td>158.328931</td>\n",
       "      <td>0.109639</td>\n",
       "      <td>0.109639</td>\n",
       "      <td>0.113947</td>\n",
       "    </tr>\n",
       "    <tr>\n",
       "      <th>min</th>\n",
       "      <td>501000.000000</td>\n",
       "      <td>21.000000</td>\n",
       "      <td>3.000310e+06</td>\n",
       "      <td>1.000794e+06</td>\n",
       "      <td>0.000000</td>\n",
       "      <td>300.000000</td>\n",
       "      <td>0.000000</td>\n",
       "      <td>0.000000</td>\n",
       "      <td>-0.119000</td>\n",
       "    </tr>\n",
       "    <tr>\n",
       "      <th>25%</th>\n",
       "      <td>502499.750000</td>\n",
       "      <td>31.000000</td>\n",
       "      <td>7.163379e+06</td>\n",
       "      <td>4.440939e+06</td>\n",
       "      <td>0.000000</td>\n",
       "      <td>438.750000</td>\n",
       "      <td>0.000000</td>\n",
       "      <td>0.000000</td>\n",
       "      <td>-0.020000</td>\n",
       "    </tr>\n",
       "    <tr>\n",
       "      <th>50%</th>\n",
       "      <td>503999.500000</td>\n",
       "      <td>41.000000</td>\n",
       "      <td>1.129945e+07</td>\n",
       "      <td>7.982304e+06</td>\n",
       "      <td>0.000000</td>\n",
       "      <td>577.500000</td>\n",
       "      <td>0.000000</td>\n",
       "      <td>0.000000</td>\n",
       "      <td>0.000000</td>\n",
       "    </tr>\n",
       "    <tr>\n",
       "      <th>75%</th>\n",
       "      <td>505499.250000</td>\n",
       "      <td>50.000000</td>\n",
       "      <td>1.573705e+07</td>\n",
       "      <td>1.153144e+07</td>\n",
       "      <td>0.000000</td>\n",
       "      <td>713.000000</td>\n",
       "      <td>0.000000</td>\n",
       "      <td>0.000000</td>\n",
       "      <td>0.021000</td>\n",
       "    </tr>\n",
       "    <tr>\n",
       "      <th>max</th>\n",
       "      <td>506999.000000</td>\n",
       "      <td>59.000000</td>\n",
       "      <td>1.998622e+07</td>\n",
       "      <td>1.499858e+07</td>\n",
       "      <td>3.000000</td>\n",
       "      <td>849.000000</td>\n",
       "      <td>1.000000</td>\n",
       "      <td>1.000000</td>\n",
       "      <td>1.092000</td>\n",
       "    </tr>\n",
       "  </tbody>\n",
       "</table>\n",
       "</div>"
      ],
      "text/plain": [
       "       application_id          age  monthly_income   loan_amount  \\\n",
       "count     6000.000000  6000.000000    6.000000e+03  6.000000e+03   \n",
       "mean    503999.500000    40.321500    1.140386e+07  8.001122e+06   \n",
       "std       1732.195139    11.300697    4.912598e+06  4.071786e+06   \n",
       "min     501000.000000    21.000000    3.000310e+06  1.000794e+06   \n",
       "25%     502499.750000    31.000000    7.163379e+06  4.440939e+06   \n",
       "50%     503999.500000    41.000000    1.129945e+07  7.982304e+06   \n",
       "75%     505499.250000    50.000000    1.573705e+07  1.153144e+07   \n",
       "max     506999.000000    59.000000    1.998622e+07  1.499858e+07   \n",
       "\n",
       "       previous_defaults  credit_score      default  leak_col_good  \\\n",
       "count        6000.000000   6000.000000  6000.000000    6000.000000   \n",
       "mean            0.243667    575.979833     0.012167       0.012167   \n",
       "std             0.484767    158.328931     0.109639       0.109639   \n",
       "min             0.000000    300.000000     0.000000       0.000000   \n",
       "25%             0.000000    438.750000     0.000000       0.000000   \n",
       "50%             0.000000    577.500000     0.000000       0.000000   \n",
       "75%             0.000000    713.000000     0.000000       0.000000   \n",
       "max             3.000000    849.000000     1.000000       1.000000   \n",
       "\n",
       "       leak_col_subtle  \n",
       "count      6000.000000  \n",
       "mean          0.011945  \n",
       "std           0.113947  \n",
       "min          -0.119000  \n",
       "25%          -0.020000  \n",
       "50%           0.000000  \n",
       "75%           0.021000  \n",
       "max           1.092000  "
      ]
     },
     "execution_count": 16,
     "metadata": {},
     "output_type": "execute_result"
    }
   ],
   "source": [
    "dataset.describe()"
   ]
  },
  {
   "cell_type": "code",
   "execution_count": 18,
   "id": "b348939d",
   "metadata": {},
   "outputs": [
    {
     "data": {
      "image/png": "[encoded data removed]",
      "text/plain": [
       "<Figure size 1500x1000 with 5 Axes>"
      ]
     },
     "metadata": {},
     "output_type": "display_data"
    }
   ],
   "source": [
    "numeric_cols = ['age', 'monthly_income', 'loan_amount', 'previous_defaults', 'credit_score']\n",
    "\n",
    "plt.figure(figsize=(15, 10))\n",
    "\n",
    "for i, col in enumerate(numeric_cols, 1):\n",
    "    plt.subplot(2, 3, i)\n",
    "    sns.boxplot(x=dataset[col])\n",
    "    plt.title(f'Boxplot of {col}')\n",
    "    plt.xlabel(col)\n",
    "\n",
    "plt.tight_layout()\n",
    "plt.show()"
   ]
  },
  {
   "cell_type": "markdown",
   "id": "cb45515a",
   "metadata": {},
   "source": [
    "Karena tidak terlihat adanya Extreme Outlier, maka tidak dilakukan Outlier Handling."
   ]
  },
  {
   "cell_type": "code",
   "execution_count": 31,
   "id": "97088142",
   "metadata": {},
   "outputs": [],
   "source": [
    "# Karena Data Leakage (Fitur yang membocorkan hasil target) dapat terjadi oleh kedua fitur ini, kita drop kedua fitur tersebut.\n",
    "\n",
    "df = dataset.drop(['leak_col_good', 'leak_col_subtle'], axis=1)\n"
   ]
  },
  {
   "cell_type": "code",
   "execution_count": 32,
   "id": "89716752",
   "metadata": {},
   "outputs": [
    {
     "name": "stdout",
     "output_type": "stream",
     "text": [
      "<class 'pandas.core.frame.DataFrame'>\n",
      "RangeIndex: 6000 entries, 0 to 5999\n",
      "Data columns (total 7 columns):\n",
      " #   Column             Non-Null Count  Dtype\n",
      "---  ------             --------------  -----\n",
      " 0   application_id     6000 non-null   int64\n",
      " 1   age                6000 non-null   int64\n",
      " 2   monthly_income     6000 non-null   int64\n",
      " 3   loan_amount        6000 non-null   int64\n",
      " 4   previous_defaults  6000 non-null   int64\n",
      " 5   credit_score       6000 non-null   int64\n",
      " 6   default            6000 non-null   int64\n",
      "dtypes: int64(7)\n",
      "memory usage: 328.3 KB\n"
     ]
    }
   ],
   "source": [
    "df.info()"
   ]
  },
  {
   "cell_type": "markdown",
   "id": "8d617a09",
   "metadata": {},
   "source": [
    "# Exploratory Data Analysis"
   ]
  }
 ],
 "metadata": {
  "kernelspec": {
   "display_name": "Python 3",
   "language": "python",
   "name": "python3"
  },
  "language_info": {
   "codemirror_mode": {
    "name": "ipython",
    "version": 3
   },
   "file_extension": ".py",
   "mimetype": "text/x-python",
   "name": "python",
   "nbconvert_exporter": "python",
   "pygments_lexer": "ipython3",
   "version": "3.13.0"
  }
 },
 "nbformat": 4,
 "nbformat_minor": 5
}
